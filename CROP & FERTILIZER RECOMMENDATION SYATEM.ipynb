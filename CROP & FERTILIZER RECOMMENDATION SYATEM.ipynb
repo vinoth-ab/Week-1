{
 "cells": [
  {
   "cell_type": "markdown",
   "id": "ecdfc00c-b34d-4012-8cca-ed5fca0e6d2c",
   "metadata": {},
   "source": [
    "**Crop and Fertilizer Recommendation System using ML**"
   ]
  },
  {
   "cell_type": "code",
   "execution_count": 1,
   "id": "71872fac-9195-4b36-8c86-57221d63e1e8",
   "metadata": {},
   "outputs": [],
   "source": [
    "# import necessary Libraries\n",
    "import numpy as np\n",
    "import pandas as pd\n",
    "import matplotlib.pyplot as plt\n",
    "import seaborn as sns"
   ]
  },
  {
   "cell_type": "code",
   "execution_count": 2,
   "id": "0c16ff91-e377-4dfc-8b42-db0d466df3e3",
   "metadata": {},
   "outputs": [
    {
     "name": "stdout",
     "output_type": "stream",
     "text": [
      "Data loaded successfully!\n"
     ]
    }
   ],
   "source": [
    "# Function to load data from a file\n",
    "def load_data(file_path):\n",
    "    \"\"\"Load dataset from a given file path.\"\"\"\n",
    "    try:\n",
    "        data = pd.read_csv(file_path)\n",
    "        print(\"Data loaded successfully!\")\n",
    "        return data\n",
    "    except FileNotFoundError:\n",
    "        print(\"The file was not found. Please check the file path.\")\n",
    "        return None\n",
    "\n",
    "# Example usage (using raw string to avoid escape characters issue)\n",
    "file_path = r'dataset\\Crop_recommendation.csv'  # Relative path\n",
    "crop_data = load_data(file_path)"
   ]
  },
  {
   "cell_type": "code",
   "execution_count": 3,
   "id": "0e758a64-c981-4f8c-a88c-240f4de7fc6e",
   "metadata": {},
   "outputs": [
    {
     "name": "stdout",
     "output_type": "stream",
     "text": [
      "\n",
      "Dataset Preview (Head):\n",
      "    N   P   K  temperature   humidity        ph    rainfall label\n",
      "0  90  42  43    20.879744  82.002744  6.502985  202.935536  rice\n",
      "1  85  58  41    21.770462  80.319644  7.038096  226.655537  rice\n",
      "2  60  55  44    23.004459  82.320763  7.840207  263.964248  rice\n",
      "3  74  35  40    26.491096  80.158363  6.980401  242.864034  rice\n",
      "4  78  42  42    20.130175  81.604873  7.628473  262.717340  rice\n",
      "\n",
      "Dataset Preview (Tail):\n",
      "        N   P   K  temperature   humidity        ph    rainfall   label\n",
      "2195  107  34  32    26.774637  66.413269  6.780064  177.774507  coffee\n",
      "2196   99  15  27    27.417112  56.636362  6.086922  127.924610  coffee\n",
      "2197  118  33  30    24.131797  67.225123  6.362608  173.322839  coffee\n",
      "2198  117  32  34    26.272418  52.127394  6.758793  127.175293  coffee\n",
      "2199  104  18  30    23.603016  60.396475  6.779833  140.937041  coffee\n",
      "\n",
      "Dataset Information:\n",
      "<class 'pandas.core.frame.DataFrame'>\n",
      "RangeIndex: 2200 entries, 0 to 2199\n",
      "Data columns (total 8 columns):\n",
      " #   Column       Non-Null Count  Dtype  \n",
      "---  ------       --------------  -----  \n",
      " 0   N            2200 non-null   int64  \n",
      " 1   P            2200 non-null   int64  \n",
      " 2   K            2200 non-null   int64  \n",
      " 3   temperature  2200 non-null   float64\n",
      " 4   humidity     2200 non-null   float64\n",
      " 5   ph           2200 non-null   float64\n",
      " 6   rainfall     2200 non-null   float64\n",
      " 7   label        2200 non-null   object \n",
      "dtypes: float64(4), int64(3), object(1)\n",
      "memory usage: 137.6+ KB\n",
      "\n",
      "Missing Values in the Dataset:\n",
      "N              0\n",
      "P              0\n",
      "K              0\n",
      "temperature    0\n",
      "humidity       0\n",
      "ph             0\n",
      "rainfall       0\n",
      "label          0\n",
      "dtype: int64\n",
      "\n",
      "Number of Duplicate Rows in the Dataset:\n",
      "0\n",
      "\n",
      "Descriptive Statistics of the Dataset:\n",
      "                 N            P            K  temperature     humidity  \\\n",
      "count  2200.000000  2200.000000  2200.000000  2200.000000  2200.000000   \n",
      "mean     50.551818    53.362727    48.149091    25.616244    71.481779   \n",
      "std      36.917334    32.985883    50.647931     5.063749    22.263812   \n",
      "min       0.000000     5.000000     5.000000     8.825675    14.258040   \n",
      "25%      21.000000    28.000000    20.000000    22.769375    60.261953   \n",
      "50%      37.000000    51.000000    32.000000    25.598693    80.473146   \n",
      "75%      84.250000    68.000000    49.000000    28.561654    89.948771   \n",
      "max     140.000000   145.000000   205.000000    43.675493    99.981876   \n",
      "\n",
      "                ph     rainfall  \n",
      "count  2200.000000  2200.000000  \n",
      "mean      6.469480   103.463655  \n",
      "std       0.773938    54.958389  \n",
      "min       3.504752    20.211267  \n",
      "25%       5.971693    64.551686  \n",
      "50%       6.425045    94.867624  \n",
      "75%       6.923643   124.267508  \n",
      "max       9.935091   298.560117  \n",
      "\n",
      "Column Names in the Dataset:\n",
      "Index(['N', 'P', 'K', 'temperature', 'humidity', 'ph', 'rainfall', 'label'], dtype='object')\n"
     ]
    }
   ],
   "source": [
    "# Function to analyze the dataset\n",
    "def analyze_data(data):\n",
    "    \"\"\"Perform basic analysis on the dataset.\"\"\"\n",
    "    if data is not None:\n",
    "        print(\"\\nDataset Preview (Head):\")\n",
    "        print(data.head())\n",
    "\n",
    "        print(\"\\nDataset Preview (Tail):\")\n",
    "        print(data.tail())\n",
    "\n",
    "        print(\"\\nDataset Information:\")\n",
    "        data.info()\n",
    "\n",
    "        print(\"\\nMissing Values in the Dataset:\")\n",
    "        print(data.isnull().sum())\n",
    "\n",
    "\n",
    "        print(\"\\nNumber of Duplicate Rows in the Dataset:\")\n",
    "        print(data.duplicated().sum())\n",
    "\n",
    "        print(\"\\nDescriptive Statistics of the Dataset:\")\n",
    "        print(data.describe())\n",
    "\n",
    "        print(\"\\nColumn Names in the Dataset:\")\n",
    "        print(data.columns)\n",
    "    else:\n",
    "        print(\"No data to analyze.\")\n",
    "\n",
    "# Analyzing the dataset\n",
    "analyze_data(crop_data)"
   ]
  },
  {
   "cell_type": "code",
   "execution_count": 4,
   "id": "6767670d-742c-48bb-9ae7-cd562fd5dd27",
   "metadata": {},
   "outputs": [
    {
     "name": "stdout",
     "output_type": "stream",
     "text": [
      "Missing data count per column:\n",
      "N              0\n",
      "P              0\n",
      "K              0\n",
      "temperature    0\n",
      "humidity       0\n",
      "ph             0\n",
      "rainfall       0\n",
      "label          0\n",
      "dtype: int64\n",
      "No missing data in the dataset.\n"
     ]
    }
   ],
   "source": [
    "# Function to visualize missing data as a heatmap\n",
    "def visualize_missing_data(data):\n",
    "    \"\"\"Visualize missing data in the dataset using a heatmap.\"\"\"\n",
    "    if data.isnull().sum().sum() == 0:\n",
    "        print(\"No missing data in the dataset.\")\n",
    "    else:\n",
    "        plt.figure(figsize=(10, 6))\n",
    "        sns.heatmap(data.isnull(), cbar=False, cmap=\"viridis\", linewidths=0.5)\n",
    "        plt.title(\"Missing Data Heatmap\")\n",
    "        plt.show()\n",
    "\n",
    "# Check if any missing data exists\n",
    "print(\"Missing data count per column:\")\n",
    "print(crop_data.isnull().sum())\n",
    "\n",
    "# Visualizing missing data\n",
    "visualize_missing_data(crop_data)"
   ]
  },
  {
   "cell_type": "code",
   "execution_count": 5,
   "id": "0b57ee81-39d0-43d1-a0ec-3e96f026f701",
   "metadata": {},
   "outputs": [
    {
     "name": "stdout",
     "output_type": "stream",
     "text": [
      "\n",
      "Value Counts in the 'label' Column:\n",
      "label\n",
      "rice           100\n",
      "maize          100\n",
      "jute           100\n",
      "cotton         100\n",
      "coconut        100\n",
      "papaya         100\n",
      "orange         100\n",
      "apple          100\n",
      "muskmelon      100\n",
      "watermelon     100\n",
      "grapes         100\n",
      "mango          100\n",
      "banana         100\n",
      "pomegranate    100\n",
      "lentil         100\n",
      "blackgram      100\n",
      "mungbean       100\n",
      "mothbeans      100\n",
      "pigeonpeas     100\n",
      "kidneybeans    100\n",
      "chickpea       100\n",
      "coffee         100\n",
      "Name: count, dtype: int64\n"
     ]
    }
   ],
   "source": [
    "# Function to analyze value counts of a specific column\n",
    "def analyze_column(data, column_name):\n",
    "    \"\"\"Analyze the value counts of a specific column.\"\"\"\n",
    "    if column_name in data.columns:\n",
    "        print(f\"\\nValue Counts in the '{column_name}' Column:\")\n",
    "        print(data[column_name].value_counts())\n",
    "    else:\n",
    "        print(f\"Column '{column_name}' not found.\")\n",
    "\n",
    "# Analyzing value counts of the 'label' column (change the column name if needed)\n",
    "analyze_column(crop_data, 'label')"
   ]
  },
  {
   "cell_type": "code",
   "execution_count": null,
   "id": "474b7813-77b5-43cf-b455-27ccc492adcd",
   "metadata": {},
   "outputs": [],
   "source": []
  }
 ],
 "metadata": {
  "kernelspec": {
   "display_name": "Python 3 (ipykernel)",
   "language": "python",
   "name": "python3"
  },
  "language_info": {
   "codemirror_mode": {
    "name": "ipython",
    "version": 3
   },
   "file_extension": ".py",
   "mimetype": "text/x-python",
   "name": "python",
   "nbconvert_exporter": "python",
   "pygments_lexer": "ipython3",
   "version": "3.11.7"
  }
 },
 "nbformat": 4,
 "nbformat_minor": 5
}
